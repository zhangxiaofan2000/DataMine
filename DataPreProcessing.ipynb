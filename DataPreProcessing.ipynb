{
 "cells": [
  {
   "cell_type": "code",
   "execution_count": 35,
   "metadata": {
    "collapsed": true,
    "pycharm": {
     "name": "#%%\n"
    }
   },
   "outputs": [],
   "source": [
    "import numpy as np\n",
    "import pandas as pd\n",
    "from PIL import Image"
   ]
  },
  {
   "cell_type": "markdown",
   "source": [
    "# 数据预处理"
   ],
   "metadata": {
    "collapsed": false,
    "pycharm": {
     "name": "#%% md\n"
    }
   }
  },
  {
   "cell_type": "markdown",
   "source": [
    "## 核心函数\n",
    "#### 截取图片中心部分，并计算颜色矩"
   ],
   "metadata": {
    "collapsed": false,
    "pycharm": {
     "name": "#%% md\n"
    }
   }
  },
  {
   "cell_type": "code",
   "execution_count": 36,
   "outputs": [],
   "source": [
    "def img_resize(length,width,data_r):\n",
    "    '''\n",
    "    裁剪图片\n",
    "    :param length:\n",
    "    :param width:\n",
    "    :param data_r:\n",
    "    :return:\n",
    "    '''\n",
    "    m=100#保留的区域\n",
    "    n=100\n",
    "    l_begin=np.int64(np.round(length/2,0)-m/2)#转化为整数\n",
    "    l_last=np.int64(np.round(length/2,0)+m/2)\n",
    "    w_begin=np.int64(np.round(width/2,0)-n/2)\n",
    "    w_last=np.int64(np.round(width/2,0)+n/2)\n",
    "    data_rc=data_r[l_begin:l_last,w_begin:w_last]\n",
    "    return data_rc\n",
    "\n",
    "\n",
    "#一阶矩\n",
    "def m1(data_rc:np.array):\n",
    "    '''\n",
    "    计算一阶矩\n",
    "    :param data_rc:\n",
    "    :return:\n",
    "    '''\n",
    "    return np.mean(data_rc)\n",
    "\n",
    "#二阶矩\n",
    "def m2(data_rc:np.array):\n",
    "    '''\n",
    "    计算二阶矩\n",
    "    :param data_rc:\n",
    "    :return:\n",
    "    '''\n",
    "    return np.std(data_rc)\n",
    "\n",
    "#三阶矩\n",
    "def var3(length,width,data_rc:np.array):\n",
    "    '''\n",
    "    计算三阶矩\n",
    "    :param length:\n",
    "    :param width:\n",
    "    :param data_rc:\n",
    "    :return:\n",
    "    '''\n",
    "    mean = np.mean(data_rc)\n",
    "    data_rc = data_rc-mean\n",
    "    data_rc = data_rc**3\n",
    "    data_rc = np.abs(data_rc)\n",
    "    data_rc = np.sum(data_rc)/(length*width)\n",
    "    data_rc = data_rc**(1/3)\n",
    "    return data_rc\n",
    "\n",
    "# 计算三个通道的三个颜色矩\n",
    "def get_mu(img):\n",
    "    '''\n",
    "    返回data 三个通道的三个颜色矩\n",
    "    :param img:\n",
    "    :return:\n",
    "    '''\n",
    "    data=np.array(img)\n",
    "    length=data.shape[0]\n",
    "    width=data.shape[1]\n",
    "    ans = []\n",
    "    for i in [0,1,2]:\n",
    "        data_r=data[:,:,i]#三维所有行列\n",
    "        data_rc = img_resize(length,width,data_r)\n",
    "        data_rc=data_rc/255\n",
    "        ans.extend([m1(data_rc),m2(data_rc),var3(length,width,data_rc)])\n",
    "    return ans\n",
    "\n"
   ],
   "metadata": {
    "collapsed": false,
    "pycharm": {
     "name": "#%%\n"
    }
   }
  },
  {
   "cell_type": "code",
   "execution_count": 37,
   "outputs": [
    {
     "data": {
      "text/plain": "(1704, 2272, 3)"
     },
     "execution_count": 37,
     "metadata": {},
     "output_type": "execute_result"
    }
   ],
   "source": [
    "image=r\"data/images/1_1.jpg\"\n",
    "#打开图片\n",
    "img=Image.open(image)\n",
    "data=np.array(img)\n",
    "data.shape\n",
    "\n"
   ],
   "metadata": {
    "collapsed": false,
    "pycharm": {
     "name": "#%%\n"
    }
   }
  },
  {
   "cell_type": "code",
   "execution_count": 38,
   "outputs": [],
   "source": [
    "# #显示图片\n",
    "# #im.show()\n",
    "# print(data.shape)#大小，取中间的点\n",
    "# data_r=data[:,:,0]#三维所有行列\n",
    "# img1=img.fromarray(data_r)#第一个通道\n",
    "# # img1.show()#黑白"
   ],
   "metadata": {
    "collapsed": false,
    "pycharm": {
     "name": "#%%\n"
    }
   }
  },
  {
   "cell_type": "markdown",
   "source": [
    "## 获取文件夹下所有文件"
   ],
   "metadata": {
    "collapsed": false,
    "pycharm": {
     "name": "#%% md\n"
    }
   }
  },
  {
   "cell_type": "code",
   "execution_count": 39,
   "outputs": [],
   "source": [
    "import os\n",
    "path =r\"data/images\"\n",
    "\n",
    "def get_allfile(path):  # 获取所有文件\n",
    "    all_file = []\n",
    "    for f in os.listdir(path):  #listdir返回文件中所有目录\n",
    "        f_name = os.path.join(path, f)\n",
    "        all_file.append(f_name)\n",
    "    return all_file\n",
    "\n",
    "all_file=get_allfile(path)  #tickets要获取文件夹名\n"
   ],
   "metadata": {
    "collapsed": false,
    "pycharm": {
     "name": "#%%\n"
    }
   }
  },
  {
   "cell_type": "markdown",
   "source": [
    "## 进行图片预处理，将其存入Dataframe"
   ],
   "metadata": {
    "collapsed": false,
    "pycharm": {
     "name": "#%% md\n"
    }
   }
  },
  {
   "cell_type": "code",
   "execution_count": 40,
   "outputs": [
    {
     "name": "stderr",
     "output_type": "stream",
     "text": [
      "100%|██████████| 203/203 [00:25<00:00,  8.10it/s]"
     ]
    },
    {
     "name": "stdout",
     "output_type": "stream",
     "text": [
      "处理完成！\n"
     ]
    },
    {
     "name": "stderr",
     "output_type": "stream",
     "text": [
      "\n"
     ]
    }
   ],
   "source": [
    "from tqdm import tqdm\n",
    "#处理 文件夹下所有图片\n",
    "\n",
    "rows_list = [] #存数据\n",
    "\n",
    "\n",
    "for filename in tqdm(all_file):\n",
    "    row =[]\n",
    "    #打开图片\n",
    "    img=Image.open(filename)\n",
    "\n",
    "    #计算颜色矩并存入row\n",
    "    row.extend(get_mu(img))\n",
    "\n",
    "    #存入序号和类别\n",
    "    row.extend([int(filename.split('.')[0].split('_')[1]),int(filename.split('.')[0].split('_')[0][-1])])\n",
    "    rows_list.append(row)\n",
    "\n",
    "# 创建dataframe 对象\n",
    "columns = ['R通道一阶矩','R通道二阶矩','R通道三阶矩','G通道一阶矩','G通道二阶矩','G通道三阶矩','B通道一阶矩','B通道二阶矩','B通道三阶矩','序号','类别']\n",
    "img_df = pd.DataFrame(rows_list,columns=columns)\n",
    "#存储文件的路径\n",
    "save_path=r'data/images_excel/imgs.csv'\n",
    "img_df.to_csv(save_path,encoding='utf-8')\n",
    "print('处理完成！')\n"
   ],
   "metadata": {
    "collapsed": false,
    "pycharm": {
     "name": "#%%\n"
    }
   }
  },
  {
   "cell_type": "code",
   "execution_count": 40,
   "outputs": [],
   "source": [
    "\n",
    "\n"
   ],
   "metadata": {
    "collapsed": false,
    "pycharm": {
     "name": "#%%\n"
    }
   }
  },
  {
   "cell_type": "code",
   "execution_count": 41,
   "outputs": [],
   "source": [
    "A = r'data/images\\\\1_1.jpg'\n",
    "category =int(A.split('.')[0].split('_')[0][-1])\n",
    "order =int(A.split('.')[0].split('_')[1])\n"
   ],
   "metadata": {
    "collapsed": false,
    "pycharm": {
     "name": "#%%\n"
    }
   }
  },
  {
   "cell_type": "markdown",
   "source": [
    "# 图像轮廓"
   ],
   "metadata": {
    "collapsed": false,
    "pycharm": {
     "name": "#%% md\n"
    }
   }
  },
  {
   "cell_type": "code",
   "execution_count": 42,
   "outputs": [],
   "source": [
    "# import cv2\n",
    "# image=r\"data/images/1_1.jpg\"\n",
    "# img = cv2.imread(image)\n",
    "# cv2.imshow(\"img\", img)\n",
    "#\n",
    "#\n",
    "# # 转换为灰度图像\n",
    "# img_gray = cv2.cvtColor(img, cv2.COLOR_BGR2GRAY)\n",
    "#\n",
    "# # 转换为二值图\n",
    "# ret, binary = cv2.threshold(img_gray, 127, 255, cv2.THRESH_BINARY)\n",
    "# # 获取图像的轮廓参数\n",
    "# contours, hierarchy = cv2.findContours(binary, cv2.RETR_LIST, cv2.CHAIN_APPROX_SIMPLE)\n",
    "#\n",
    "# for i in range(len(contours)):\n",
    "#     print(str(i),cv2.moments(contours[i]))"
   ],
   "metadata": {
    "collapsed": false,
    "pycharm": {
     "name": "#%%\n"
    }
   }
  },
  {
   "cell_type": "markdown",
   "source": [
    "# 图像颜色矩"
   ],
   "metadata": {
    "collapsed": false,
    "pycharm": {
     "name": "#%% md\n"
    }
   }
  },
  {
   "cell_type": "code",
   "execution_count": 43,
   "outputs": [],
   "source": [
    "# cv2.calcHist(images, channels, mask, histSize, ranges[, hist[, accumulate]])\n",
    "# 其中images 可为单张或多张图像的array\n",
    "# channels 为要计算的通道数\n",
    "# mask 为图像掩膜\n",
    "# histSize 为直方图的柱子数量，即将数据分布在多少个区间上计数\n",
    "# range 为直方图取值范围\n",
    "# hist为返回值，不用填\n",
    "# accumulate 多张图的时候是否叠加\n",
    "# 所以一般调用的时候只需要填上面四个参数,掩膜为None，范围0.0-255.0，数量255个：\n",
    "# hist = cv2.calcHist(img, [0]， None，[256], [0.0,255.0])\n",
    "#\n"
   ],
   "metadata": {
    "collapsed": false,
    "pycharm": {
     "name": "#%%\n"
    }
   }
  },
  {
   "cell_type": "markdown",
   "source": [
    "## 颜色矩代码实现"
   ],
   "metadata": {
    "collapsed": false,
    "pycharm": {
     "name": "#%% md\n"
    }
   }
  },
  {
   "cell_type": "code",
   "execution_count": 44,
   "outputs": [],
   "source": [
    "# # import the necessary packages\n",
    "# import numpy as np\n",
    "# import cv2\n",
    "#\n",
    "# def color_moments(filename):\n",
    "#     img = cv2.imread(filename)\n",
    "#     if img is None:\n",
    "#         return\n",
    "#     # Convert BGR to HSV colorspace\n",
    "#     hsv = cv2.cvtColor(img, cv2.COLOR_BGR2HSV)\n",
    "#     # Split the channels - h,s,v\n",
    "#     h, s, v = cv2.split(hsv)\n",
    "#     # Initialize the color feature\n",
    "#     color_feature = []\n",
    "#     # N = h.shape[0] * h.shape[1]\n",
    "#     # The first central moment - average\n",
    "#     h_mean = np.mean(h)  # np.sum(h)/float(N)\n",
    "#     s_mean = np.mean(s)  # np.sum(s)/float(N)\n",
    "#     v_mean = np.mean(v)  # np.sum(v)/float(N)\n",
    "#     color_feature.extend([h_mean, s_mean, v_mean])\n",
    "#     # The second central moment - standard deviation\n",
    "#     h_std = np.std(h)  # np.sqrt(np.mean(abs(h - h.mean())**2))\n",
    "#     s_std = np.std(s)  # np.sqrt(np.mean(abs(s - s.mean())**2))\n",
    "#     v_std = np.std(v)  # np.sqrt(np.mean(abs(v - v.mean())**2))\n",
    "#     color_feature.extend([h_std, s_std, v_std])\n",
    "#     # The third central moment - the third root of the skewness\n",
    "#     h_skewness = np.mean(abs(h - h.mean())**3)\n",
    "#     s_skewness = np.mean(abs(s - s.mean())**3)\n",
    "#     v_skewness = np.mean(abs(v - v.mean())**3)\n",
    "#     h_thirdMoment = h_skewness**(1./3)\n",
    "#     s_thirdMoment = s_skewness**(1./3)\n",
    "#     v_thirdMoment = v_skewness**(1./3)\n",
    "#     color_feature.extend([h_thirdMoment, s_thirdMoment, v_thirdMoment])\n",
    "#     return color_feature\n"
   ],
   "metadata": {
    "collapsed": false,
    "pycharm": {
     "name": "#%%\n"
    }
   }
  }
 ],
 "metadata": {
  "kernelspec": {
   "name": "luo",
   "language": "python",
   "display_name": "Python [conda env:Ai_Gpu]"
  },
  "language_info": {
   "codemirror_mode": {
    "name": "ipython",
    "version": 2
   },
   "file_extension": ".py",
   "mimetype": "text/x-python",
   "name": "python",
   "nbconvert_exporter": "python",
   "pygments_lexer": "ipython2",
   "version": "2.7.6"
  }
 },
 "nbformat": 4,
 "nbformat_minor": 0
}